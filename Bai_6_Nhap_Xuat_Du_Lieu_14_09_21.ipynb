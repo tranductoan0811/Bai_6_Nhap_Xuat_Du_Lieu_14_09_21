{
 "cells": [
  {
   "cell_type": "code",
   "execution_count": 55,
   "id": "72846e53",
   "metadata": {},
   "outputs": [],
   "source": [
    "#Tính chu vi hình tròn\n",
    "import turtle\n",
    "import math"
   ]
  },
  {
   "cell_type": "code",
   "execution_count": 56,
   "id": "0892208f",
   "metadata": {},
   "outputs": [],
   "source": [
    "#khai báo biến pen\n",
    "pen=turtle.Turtle()\n",
    "pen.hideturtle()\n",
    "turtle.bgcolor(\"#E1E9EF\")"
   ]
  },
  {
   "cell_type": "code",
   "execution_count": 57,
   "id": "91e02b49",
   "metadata": {},
   "outputs": [
    {
     "name": "stdout",
     "output_type": "stream",
     "text": [
      " Nhập bán kính đường tròn, đơn vị m : 100\n"
     ]
    }
   ],
   "source": [
    "#khai báo biến và kiểu dữ liệu bán kính hình tròn\n",
    "bankinh=float(input(\" Nhập bán kính đường tròn, đơn vị m : \"))\n",
    "#Tính diện tích, chu vi\n",
    "#Chu vi hình tròn = 2R*PI\n",
    "#diện tích hình tròn = PI*D**2/4\n",
    "cv=round(2*bankinh*math.pi,2)\n",
    "s=round(math.pi**2*bankinh,2)"
   ]
  },
  {
   "cell_type": "code",
   "execution_count": 58,
   "id": "1806df9c",
   "metadata": {},
   "outputs": [],
   "source": [
    "#Vẽ hình tròn\n",
    "pen.pencolor(\"#84A3BC\")\n",
    "pen.pensize(5)\n",
    "pen.fillcolor(\"#C9D4DC\")\n",
    "pen.begin_fill()\n",
    "pen.circle(bankinh)\n",
    "pen.end_fill()"
   ]
  },
  {
   "cell_type": "code",
   "execution_count": 59,
   "id": "4f1d1f75",
   "metadata": {},
   "outputs": [
    {
     "data": {
      "text/plain": [
       "<function turtle.mainloop()>"
      ]
     },
     "execution_count": 59,
     "metadata": {},
     "output_type": "execute_result"
    }
   ],
   "source": [
    "turtle.done"
   ]
  },
  {
   "cell_type": "code",
   "execution_count": 60,
   "id": "2820ff1a",
   "metadata": {},
   "outputs": [
    {
     "name": "stdout",
     "output_type": "stream",
     "text": [
      "Chu vi hình tròn là ( m ) :  628.32\n",
      "Diện tích hình tròn là ( m2 ) :  986.96\n"
     ]
    }
   ],
   "source": [
    "print(\"Chu vi hình tròn là ( m ) : \",CV)\n",
    "print(\"Diện tích hình tròn là ( m2 ) : \",str(S))"
   ]
  },
  {
   "cell_type": "code",
   "execution_count": 61,
   "id": "4a4ebc24",
   "metadata": {},
   "outputs": [
    {
     "name": "stdout",
     "output_type": "stream",
     "text": [
      "Chu vi hình tròn có bán kính 100.0 là 628.32 ( m )\n",
      " Hình tròn bán kinh 100.0 có \n",
      " Chu vi là 628.32 ( m ), \n",
      " Diện tích là 986.96  ( m2 )\n"
     ]
    }
   ],
   "source": [
    "print(\"Chu vi hình tròn có bán kính {bankinh} là {cv} ( m )\".format(bankinh=bankinh,cv=cv))\n",
    "print(\"\"\" Hình tròn bán kinh {bankinh} có \n",
    " Chu vi là {cv} ( m ), \n",
    " Diện tích là {s}  ( m2 )\"\"\".format(bankinh=bankinh,cv=cv,s=s))"
   ]
  },
  {
   "cell_type": "code",
   "execution_count": null,
   "id": "e7e487b9",
   "metadata": {},
   "outputs": [],
   "source": []
  }
 ],
 "metadata": {
  "kernelspec": {
   "display_name": "Python 3 (ipykernel)",
   "language": "python",
   "name": "python3"
  },
  "language_info": {
   "codemirror_mode": {
    "name": "ipython",
    "version": 3
   },
   "file_extension": ".py",
   "mimetype": "text/x-python",
   "name": "python",
   "nbconvert_exporter": "python",
   "pygments_lexer": "ipython3",
   "version": "3.9.6"
  }
 },
 "nbformat": 4,
 "nbformat_minor": 5
}
