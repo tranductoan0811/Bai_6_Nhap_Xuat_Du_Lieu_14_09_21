{
 "cells": [
  {
   "cell_type": "code",
   "execution_count": 1,
   "id": "424b2013",
   "metadata": {},
   "outputs": [
    {
     "name": "stdout",
     "output_type": "stream",
     "text": [
      "nhập số tiền USD cần đổi :173.5\n",
      "nhập tỷ giá việt nam đồng / 1 USD :23000\n",
      "\n",
      "Số tiền Việt Nam ứng với \n",
      "số tiền USD: 173.5 \n",
      "tỷ giá: 23,000 vnd / 1 USD : \n",
      "là: 3,990,500.0 vnd\n"
     ]
    }
   ],
   "source": [
    "# Thực hành Nhập xuất dữ liệu (06_10_21)\n",
    "# Ứng dụng chuyển đổi tiền tệ\n",
    "tien_usd = float(input(\"nhập số tiền USD cần đổi :\"))\n",
    "tygia_vnd_usd = int(input(\"nhập tỷ giá việt nam đồng / 1 USD :\"))\n",
    "\n",
    "sotien_vnd = round((tien_usd * tygia_vnd_usd),2)\n",
    "\n",
    "print(f\"\"\"\\nSố tiền Việt Nam ứng với \n",
    "số tiền USD: {tien_usd:} \n",
    "tỷ giá: {tygia_vnd_usd:,} vnd / 1 USD : \n",
    "là: {sotien_vnd:,} vnd\"\"\")\n"
   ]
  }
 ],
 "metadata": {
  "kernelspec": {
   "display_name": "Python 3 (ipykernel)",
   "language": "python",
   "name": "python3"
  },
  "language_info": {
   "codemirror_mode": {
    "name": "ipython",
    "version": 3
   },
   "file_extension": ".py",
   "mimetype": "text/x-python",
   "name": "python",
   "nbconvert_exporter": "python",
   "pygments_lexer": "ipython3",
   "version": "3.9.6"
  }
 },
 "nbformat": 4,
 "nbformat_minor": 5
}
