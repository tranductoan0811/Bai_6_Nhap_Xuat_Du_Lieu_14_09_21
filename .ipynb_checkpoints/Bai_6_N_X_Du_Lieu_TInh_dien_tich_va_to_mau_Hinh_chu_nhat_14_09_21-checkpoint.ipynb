{
 "cells": [
  {
   "cell_type": "code",
   "execution_count": 1,
   "id": "27bd85e3",
   "metadata": {},
   "outputs": [],
   "source": [
    "import turtle"
   ]
  },
  {
   "cell_type": "code",
   "execution_count": 2,
   "id": "b6e5f12c",
   "metadata": {
    "scrolled": true
   },
   "outputs": [
    {
     "name": "stdout",
     "output_type": "stream",
     "text": [
      " Nhập màu hoặc mã màu nền : #E1E9EF\n",
      " Nhập màu bút vẽ : #92AEC3\n",
      " Nhập cạnh chiều dài ( m ) : 250\n",
      " Nhập cạnh chiều rộng ( m ) : 180\n"
     ]
    }
   ],
   "source": [
    "#khai báo biến\n",
    "pen=turtle.Turtle()\n",
    "#màu nền : #E1E9EF\n",
    "maunen=input(\" Nhập màu hoặc mã màu nền : \")\n",
    "#màu nét : #92AEC3\n",
    "maunet=input(\" Nhập màu bút vẽ : \")\n",
    "c_dai=float(input(\" Nhập cạnh chiều dài ( m ) : \"))\n",
    "c_rong=float(input(\" Nhập cạnh chiều rộng ( m ) : \"))\n",
    "dtich=c_dai*c_rong\n",
    "cv=2*(c_dai+c_rong)"
   ]
  },
  {
   "cell_type": "code",
   "execution_count": 4,
   "id": "8e8bbfc6",
   "metadata": {},
   "outputs": [],
   "source": [
    "turtle.bgcolor(maunen)\n",
    "pen.pencolor(maunet)\n",
    "pen.pensize(6)\n",
    "pen.fillcolor(\"#AFC5C0\")\n",
    "pen.begin_fill()\n",
    "pen.fd(c_dai)\n",
    "pen.lt(90)\n",
    "pen.fd(c_rong)\n",
    "pen.lt(90)\n",
    "pen.fd(c_dai)\n",
    "pen.lt(90)\n",
    "pen.fd(c_rong)\n",
    "pen.end_fill()"
   ]
  },
  {
   "cell_type": "code",
   "execution_count": 4,
   "id": "8402d2e5",
   "metadata": {},
   "outputs": [
    {
     "data": {
      "text/plain": [
       "<function turtle.mainloop()>"
      ]
     },
     "execution_count": 4,
     "metadata": {},
     "output_type": "execute_result"
    }
   ],
   "source": [
    "turtle.done"
   ]
  },
  {
   "cell_type": "code",
   "execution_count": 8,
   "id": "88c4d397",
   "metadata": {},
   "outputs": [
    {
     "name": "stdout",
     "output_type": "stream",
     "text": [
      " \n",
      "Hình chữ nhật có chiều dài cạnh lớn 250.0 ( m ), chiều dài cạnh nhỏ 180.0 ( m ) có :  \n",
      "Diện tích là 45000.0 ( m2 )\n",
      "Chu Vi là 860.0 ( m )\n"
     ]
    }
   ],
   "source": [
    "print(\"\"\" \n",
    "Hình chữ nhật có chiều dài cạnh lớn {canhdai} ( m ), chiều dài cạnh nhỏ {canhbe} ( m ) có :  \n",
    "Diện tích là {s} ( m2 )\n",
    "Chu Vi là {cv} ( m )\"\"\".format(canhdai=c_dai,canhbe=c_rong,s=dtich,cv=cv))"
   ]
  }
 ],
 "metadata": {
  "kernelspec": {
   "display_name": "Python 3 (ipykernel)",
   "language": "python",
   "name": "python3"
  },
  "language_info": {
   "codemirror_mode": {
    "name": "ipython",
    "version": 3
   },
   "file_extension": ".py",
   "mimetype": "text/x-python",
   "name": "python",
   "nbconvert_exporter": "python",
   "pygments_lexer": "ipython3",
   "version": "3.9.6"
  }
 },
 "nbformat": 4,
 "nbformat_minor": 5
}
