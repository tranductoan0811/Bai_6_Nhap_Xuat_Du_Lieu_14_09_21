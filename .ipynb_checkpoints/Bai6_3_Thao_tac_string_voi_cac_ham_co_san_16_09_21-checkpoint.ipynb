{
 "cells": [
  {
   "cell_type": "code",
   "execution_count": 27,
   "id": "da2958e0",
   "metadata": {},
   "outputs": [
    {
     "name": "stdout",
     "output_type": "stream",
     "text": [
      "Nhập chuỗi con cần đếm số lần xuất hiện : language\n"
     ]
    }
   ],
   "source": [
    "#khai báo chuỗi\n",
    "my_string=\"python programing LANGUAGE\"\n",
    "my_string1=\"python programing language and PHP progamming language\"\n",
    "my_string2=\" python programing LANGUAGE \"\n",
    "chuoi_con=input(\"Nhập chuỗi con cần đếm số lần xuất hiện : \")"
   ]
  },
  {
   "cell_type": "code",
   "execution_count": 4,
   "id": "ac50db36",
   "metadata": {
    "scrolled": true
   },
   "outputs": [
    {
     "name": "stdout",
     "output_type": "stream",
     "text": [
      "True\n",
      "False\n"
     ]
    }
   ],
   "source": [
    "#dùng in và not in để kiểm tra sự tồn tại của chuỗi con trong một chuỗi\n",
    "print(\"python\" in my_string)\n",
    "print(\"python\" not in my_string)"
   ]
  },
  {
   "cell_type": "code",
   "execution_count": null,
   "id": "34b023c0",
   "metadata": {},
   "outputs": [],
   "source": [
    "#thao tác với các hàm có sẵn\n",
    "#len - hàm trả về độ dài của chuỗi. syntax(cú pháp): len(chuỗi)\n",
    "#count - hàm đếm số lần xuất hiện của chuỗi con trong chuỗi. syntax(cú pháp): bien.count(chuoi con / \"chuỗi nhập trực tiếp\")\n",
    "#lower, upper: hàm Chuyển đổi chuỗi thành chữ thường (lower), chữ hoa (upper). syntax(cú pháp): bien.lower(), bien.upper()\n",
    "#lstrip: hàm loại bỏ ký tự trống đầu chuỗi.syntax(cú pháp) : bien.lstrip()\n",
    "#rstrip: hàm loại bỏ ký tự trống cuối cùng của chuỗi.syntax(cú pháp) : bien.rstrip()\n",
    "#strip: hàm loại bỏ ký tự trống đầu và cuối cùng của chuỗi / syntax(cú pháp) : bien.strip()\n",
    "#split: hàm tách chuỗi"
   ]
  },
  {
   "cell_type": "code",
   "execution_count": 8,
   "id": "2ecf2176",
   "metadata": {
    "scrolled": true
   },
   "outputs": [
    {
     "name": "stdout",
     "output_type": "stream",
     "text": [
      "Độ dài của chuỗi :  27 ký tự. \n"
     ]
    }
   ],
   "source": [
    "#len - hàm trả về độ dài của chuỗi\n",
    "print(\"Độ dài của chuỗi : \", len(my_string), \"ký tự. \")"
   ]
  },
  {
   "cell_type": "code",
   "execution_count": 21,
   "id": "d7ddb2c0",
   "metadata": {},
   "outputs": [
    {
     "name": "stdout",
     "output_type": "stream",
     "text": [
      "Số lần xuất hiện chuỗi con language là : 2 ( lần )\n"
     ]
    }
   ],
   "source": [
    "#count - hàm đếm số lần xuất hiện của chuỗi con trong chuỗi\n",
    "print(\"Số lần xuất hiện chuỗi con\", str(chuoi_con), \"là :\", my_string1.count(chuoi_con), \"( lần )\")"
   ]
  },
  {
   "cell_type": "code",
   "execution_count": 26,
   "id": "553ae085",
   "metadata": {},
   "outputs": [
    {
     "name": "stdout",
     "output_type": "stream",
     "text": [
      "Chuỗi in thường : python programing language\n",
      "Chuỗi in HOA : PYTHON PROGRAMING LANGUAGE AND PHP PROGAMMING LANGUAGE\n"
     ]
    }
   ],
   "source": [
    "#lower, upper: hàm Chuyển đổi chuỗi thành chữ thường (lower), chữ hoa (upper). syntax(cú pháp): bien.lower(), bien.upper()\n",
    "print(\"Chuỗi in thường :\", my_string.lower())\n",
    "print(\"Chuỗi in HOA :\", my_string1.upper())"
   ]
  },
  {
   "cell_type": "code",
   "execution_count": 33,
   "id": "3298af25",
   "metadata": {},
   "outputs": [
    {
     "name": "stdout",
     "output_type": "stream",
     "text": [
      "chuỗi ban đầu:  python programing LANGUAGE \n",
      "Chuỗi sau khi loại bỏ ký tự trống đầu tiên '{}': python programing LANGUAGE \n",
      "Chuỗi sau khi loại bỏ ký tự trống cuối cùng '{}':  python programing LANGUAGE\n",
      "Chuỗi sau khi loại bỏ ký tự trống đầu tiên và cuối cùng '{}': python programing LANGUAGE\n"
     ]
    }
   ],
   "source": [
    "#lstrip(), rstrip(),strip(): hàm loại bỏ ký tự trống đầu chuỗi.syntax(cú pháp) : bien.lstrip()\n",
    "print(\"chuỗi ban đầu:\", my_string2)\n",
    "print(\"Chuỗi sau khi loại bỏ ký tự trống đầu tiên '{}':\", my_string2.lstrip())\n",
    "print(\"Chuỗi sau khi loại bỏ ký tự trống cuối cùng '{}':\", my_string2.rstrip())\n",
    "print(\"Chuỗi sau khi loại bỏ ký tự trống đầu tiên và cuối cùng '{}':\", my_string2.strip())"
   ]
  },
  {
   "cell_type": "code",
   "execution_count": 43,
   "id": "d6794ecd",
   "metadata": {},
   "outputs": [
    {
     "name": "stdout",
     "output_type": "stream",
     "text": [
      "chuỗi ban đầu: python programing LANGUAGE\n",
      "chuỗi sau khi tách: ['python', 'programing', 'LANGUAGE']\n",
      "chuỗi sau khi tách: ['python programing LANGUAGE']\n"
     ]
    }
   ],
   "source": [
    "#split: hàm tách chuỗi\n",
    "#Syntax: bien.split('dấu phân cách')\n",
    "print(\"chuỗi ban đầu:\", my_string)\n",
    "print(\"chuỗi sau khi tách:\", my_string.split(' '))\n",
    "print(\"chuỗi sau khi tách:\", my_string.split(' - '))"
   ]
  }
 ],
 "metadata": {
  "kernelspec": {
   "display_name": "Python 3 (ipykernel)",
   "language": "python",
   "name": "python3"
  },
  "language_info": {
   "codemirror_mode": {
    "name": "ipython",
    "version": 3
   },
   "file_extension": ".py",
   "mimetype": "text/x-python",
   "name": "python",
   "nbconvert_exporter": "python",
   "pygments_lexer": "ipython3",
   "version": "3.9.6"
  }
 },
 "nbformat": 4,
 "nbformat_minor": 5
}
